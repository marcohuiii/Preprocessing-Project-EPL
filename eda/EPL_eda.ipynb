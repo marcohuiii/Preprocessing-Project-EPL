{
 "cells": [
  {
   "cell_type": "markdown",
   "id": "35e9a49a",
   "metadata": {},
   "source": [
    "# EPL Dataset - Exploratory Data Analysis (EDA)\n",
    "\n",
    "This notebook explores the English Premier League (EPL) dataset to uncover insights for potential business and sports analytics applications.  \n",
    "We'll answer stakeholder-driven questions using visualizations and statistics.\n"
   ]
  },
  {
   "cell_type": "markdown",
   "id": "12b93b26",
   "metadata": {},
   "source": [
    "### 🎯 Key Business Questions\n",
    "\n",
    "1. **Which teams tend to dominate at home vs. away?**  \n",
    "   *Understand home vs. away performance bias to support predictive modeling and strategic planning.*\n",
    "\n",
    "2. **Is there a trend in the number of goals scored over different seasons?**  \n",
    "   *Evaluate whether the league is becoming more offensive or defensive over time.*\n",
    "\n",
    "3. **Are there any strong correlations between match stats and match outcomes?**  \n",
    "   *Identify predictive relationships between variables like shots, corners, and results.*\n",
    "\n",
    "4. **Which teams are most aggressive or disciplined?**  \n",
    "   *Use yellow/red card data to uncover patterns in team discipline or aggression.*\n",
    "\n",
    "5. **What are typical scorelines?**  \n",
    "   *Understand common match outcomes for modeling and fan content.*\n",
    "\n",
    "6. **Does halftime performance predict fulltime result?**  \n",
    "   *Explore whether early leads translate to final wins for live betting or tactical purposes.*"
   ]
  },
  {
   "cell_type": "markdown",
   "id": "2a80a368",
   "metadata": {},
   "source": [
    "## Import Libraries and Load Data"
   ]
  },
  {
   "cell_type": "code",
   "execution_count": 6,
   "id": "ab1cc974",
   "metadata": {},
   "outputs": [
    {
     "data": {
      "application/vnd.microsoft.datawrangler.viewer.v0+json": {
       "columns": [
        {
         "name": "index",
         "rawType": "int64",
         "type": "integer"
        },
        {
         "name": "Season",
         "rawType": "object",
         "type": "string"
        },
        {
         "name": "MatchDate",
         "rawType": "object",
         "type": "string"
        },
        {
         "name": "HomeTeam",
         "rawType": "object",
         "type": "string"
        },
        {
         "name": "AwayTeam",
         "rawType": "object",
         "type": "string"
        },
        {
         "name": "FullTimeHomeGoals",
         "rawType": "int64",
         "type": "integer"
        },
        {
         "name": "FullTimeAwayGoals",
         "rawType": "int64",
         "type": "integer"
        },
        {
         "name": "FullTimeResult",
         "rawType": "object",
         "type": "string"
        },
        {
         "name": "HalfTimeHomeGoals",
         "rawType": "int64",
         "type": "integer"
        },
        {
         "name": "HalfTimeAwayGoals",
         "rawType": "int64",
         "type": "integer"
        },
        {
         "name": "HalfTimeResult",
         "rawType": "object",
         "type": "string"
        },
        {
         "name": "HomeShots",
         "rawType": "int64",
         "type": "integer"
        },
        {
         "name": "AwayShots",
         "rawType": "int64",
         "type": "integer"
        },
        {
         "name": "HomeShotsOnTarget",
         "rawType": "int64",
         "type": "integer"
        },
        {
         "name": "AwayShotsOnTarget",
         "rawType": "int64",
         "type": "integer"
        },
        {
         "name": "HomeCorners",
         "rawType": "int64",
         "type": "integer"
        },
        {
         "name": "AwayCorners",
         "rawType": "int64",
         "type": "integer"
        },
        {
         "name": "HomeFouls",
         "rawType": "int64",
         "type": "integer"
        },
        {
         "name": "AwayFouls",
         "rawType": "int64",
         "type": "integer"
        },
        {
         "name": "HomeYellowCards",
         "rawType": "int64",
         "type": "integer"
        },
        {
         "name": "AwayYellowCards",
         "rawType": "int64",
         "type": "integer"
        },
        {
         "name": "HomeRedCards",
         "rawType": "int64",
         "type": "integer"
        },
        {
         "name": "AwayRedCards",
         "rawType": "int64",
         "type": "integer"
        }
       ],
       "conversionMethod": "pd.DataFrame",
       "ref": "c7097b01-adec-48da-b94f-0a0d7989e2b8",
       "rows": [
        [
         "0",
         "2000/01",
         "2000-08-19",
         "Charlton",
         "Man City",
         "4",
         "0",
         "H",
         "2",
         "0",
         "H",
         "17",
         "8",
         "14",
         "4",
         "6",
         "6",
         "13",
         "12",
         "1",
         "2",
         "0",
         "0"
        ],
        [
         "1",
         "2000/01",
         "2000-08-19",
         "Chelsea",
         "West Ham",
         "4",
         "2",
         "H",
         "1",
         "0",
         "H",
         "17",
         "12",
         "10",
         "5",
         "7",
         "7",
         "19",
         "14",
         "1",
         "2",
         "0",
         "0"
        ],
        [
         "2",
         "2000/01",
         "2000-08-19",
         "Coventry",
         "Middlesbrough",
         "1",
         "3",
         "A",
         "1",
         "1",
         "D",
         "6",
         "16",
         "3",
         "9",
         "8",
         "4",
         "15",
         "21",
         "5",
         "3",
         "1",
         "0"
        ],
        [
         "3",
         "2000/01",
         "2000-08-19",
         "Derby",
         "Southampton",
         "2",
         "2",
         "D",
         "1",
         "2",
         "A",
         "6",
         "13",
         "4",
         "6",
         "5",
         "8",
         "11",
         "13",
         "1",
         "1",
         "0",
         "0"
        ],
        [
         "4",
         "2000/01",
         "2000-08-19",
         "Leeds",
         "Everton",
         "2",
         "0",
         "H",
         "2",
         "0",
         "H",
         "17",
         "12",
         "8",
         "6",
         "6",
         "4",
         "21",
         "20",
         "1",
         "3",
         "0",
         "0"
        ]
       ],
       "shape": {
        "columns": 22,
        "rows": 5
       }
      },
      "text/html": [
       "<div>\n",
       "<style scoped>\n",
       "    .dataframe tbody tr th:only-of-type {\n",
       "        vertical-align: middle;\n",
       "    }\n",
       "\n",
       "    .dataframe tbody tr th {\n",
       "        vertical-align: top;\n",
       "    }\n",
       "\n",
       "    .dataframe thead th {\n",
       "        text-align: right;\n",
       "    }\n",
       "</style>\n",
       "<table border=\"1\" class=\"dataframe\">\n",
       "  <thead>\n",
       "    <tr style=\"text-align: right;\">\n",
       "      <th></th>\n",
       "      <th>Season</th>\n",
       "      <th>MatchDate</th>\n",
       "      <th>HomeTeam</th>\n",
       "      <th>AwayTeam</th>\n",
       "      <th>FullTimeHomeGoals</th>\n",
       "      <th>FullTimeAwayGoals</th>\n",
       "      <th>FullTimeResult</th>\n",
       "      <th>HalfTimeHomeGoals</th>\n",
       "      <th>HalfTimeAwayGoals</th>\n",
       "      <th>HalfTimeResult</th>\n",
       "      <th>...</th>\n",
       "      <th>HomeShotsOnTarget</th>\n",
       "      <th>AwayShotsOnTarget</th>\n",
       "      <th>HomeCorners</th>\n",
       "      <th>AwayCorners</th>\n",
       "      <th>HomeFouls</th>\n",
       "      <th>AwayFouls</th>\n",
       "      <th>HomeYellowCards</th>\n",
       "      <th>AwayYellowCards</th>\n",
       "      <th>HomeRedCards</th>\n",
       "      <th>AwayRedCards</th>\n",
       "    </tr>\n",
       "  </thead>\n",
       "  <tbody>\n",
       "    <tr>\n",
       "      <th>0</th>\n",
       "      <td>2000/01</td>\n",
       "      <td>2000-08-19</td>\n",
       "      <td>Charlton</td>\n",
       "      <td>Man City</td>\n",
       "      <td>4</td>\n",
       "      <td>0</td>\n",
       "      <td>H</td>\n",
       "      <td>2</td>\n",
       "      <td>0</td>\n",
       "      <td>H</td>\n",
       "      <td>...</td>\n",
       "      <td>14</td>\n",
       "      <td>4</td>\n",
       "      <td>6</td>\n",
       "      <td>6</td>\n",
       "      <td>13</td>\n",
       "      <td>12</td>\n",
       "      <td>1</td>\n",
       "      <td>2</td>\n",
       "      <td>0</td>\n",
       "      <td>0</td>\n",
       "    </tr>\n",
       "    <tr>\n",
       "      <th>1</th>\n",
       "      <td>2000/01</td>\n",
       "      <td>2000-08-19</td>\n",
       "      <td>Chelsea</td>\n",
       "      <td>West Ham</td>\n",
       "      <td>4</td>\n",
       "      <td>2</td>\n",
       "      <td>H</td>\n",
       "      <td>1</td>\n",
       "      <td>0</td>\n",
       "      <td>H</td>\n",
       "      <td>...</td>\n",
       "      <td>10</td>\n",
       "      <td>5</td>\n",
       "      <td>7</td>\n",
       "      <td>7</td>\n",
       "      <td>19</td>\n",
       "      <td>14</td>\n",
       "      <td>1</td>\n",
       "      <td>2</td>\n",
       "      <td>0</td>\n",
       "      <td>0</td>\n",
       "    </tr>\n",
       "    <tr>\n",
       "      <th>2</th>\n",
       "      <td>2000/01</td>\n",
       "      <td>2000-08-19</td>\n",
       "      <td>Coventry</td>\n",
       "      <td>Middlesbrough</td>\n",
       "      <td>1</td>\n",
       "      <td>3</td>\n",
       "      <td>A</td>\n",
       "      <td>1</td>\n",
       "      <td>1</td>\n",
       "      <td>D</td>\n",
       "      <td>...</td>\n",
       "      <td>3</td>\n",
       "      <td>9</td>\n",
       "      <td>8</td>\n",
       "      <td>4</td>\n",
       "      <td>15</td>\n",
       "      <td>21</td>\n",
       "      <td>5</td>\n",
       "      <td>3</td>\n",
       "      <td>1</td>\n",
       "      <td>0</td>\n",
       "    </tr>\n",
       "    <tr>\n",
       "      <th>3</th>\n",
       "      <td>2000/01</td>\n",
       "      <td>2000-08-19</td>\n",
       "      <td>Derby</td>\n",
       "      <td>Southampton</td>\n",
       "      <td>2</td>\n",
       "      <td>2</td>\n",
       "      <td>D</td>\n",
       "      <td>1</td>\n",
       "      <td>2</td>\n",
       "      <td>A</td>\n",
       "      <td>...</td>\n",
       "      <td>4</td>\n",
       "      <td>6</td>\n",
       "      <td>5</td>\n",
       "      <td>8</td>\n",
       "      <td>11</td>\n",
       "      <td>13</td>\n",
       "      <td>1</td>\n",
       "      <td>1</td>\n",
       "      <td>0</td>\n",
       "      <td>0</td>\n",
       "    </tr>\n",
       "    <tr>\n",
       "      <th>4</th>\n",
       "      <td>2000/01</td>\n",
       "      <td>2000-08-19</td>\n",
       "      <td>Leeds</td>\n",
       "      <td>Everton</td>\n",
       "      <td>2</td>\n",
       "      <td>0</td>\n",
       "      <td>H</td>\n",
       "      <td>2</td>\n",
       "      <td>0</td>\n",
       "      <td>H</td>\n",
       "      <td>...</td>\n",
       "      <td>8</td>\n",
       "      <td>6</td>\n",
       "      <td>6</td>\n",
       "      <td>4</td>\n",
       "      <td>21</td>\n",
       "      <td>20</td>\n",
       "      <td>1</td>\n",
       "      <td>3</td>\n",
       "      <td>0</td>\n",
       "      <td>0</td>\n",
       "    </tr>\n",
       "  </tbody>\n",
       "</table>\n",
       "<p>5 rows × 22 columns</p>\n",
       "</div>"
      ],
      "text/plain": [
       "    Season   MatchDate  HomeTeam       AwayTeam  FullTimeHomeGoals  \\\n",
       "0  2000/01  2000-08-19  Charlton       Man City                  4   \n",
       "1  2000/01  2000-08-19   Chelsea       West Ham                  4   \n",
       "2  2000/01  2000-08-19  Coventry  Middlesbrough                  1   \n",
       "3  2000/01  2000-08-19     Derby    Southampton                  2   \n",
       "4  2000/01  2000-08-19     Leeds        Everton                  2   \n",
       "\n",
       "   FullTimeAwayGoals FullTimeResult  HalfTimeHomeGoals  HalfTimeAwayGoals  \\\n",
       "0                  0              H                  2                  0   \n",
       "1                  2              H                  1                  0   \n",
       "2                  3              A                  1                  1   \n",
       "3                  2              D                  1                  2   \n",
       "4                  0              H                  2                  0   \n",
       "\n",
       "  HalfTimeResult  ...  HomeShotsOnTarget  AwayShotsOnTarget  HomeCorners  \\\n",
       "0              H  ...                 14                  4            6   \n",
       "1              H  ...                 10                  5            7   \n",
       "2              D  ...                  3                  9            8   \n",
       "3              A  ...                  4                  6            5   \n",
       "4              H  ...                  8                  6            6   \n",
       "\n",
       "   AwayCorners  HomeFouls  AwayFouls  HomeYellowCards  AwayYellowCards  \\\n",
       "0            6         13         12                1                2   \n",
       "1            7         19         14                1                2   \n",
       "2            4         15         21                5                3   \n",
       "3            8         11         13                1                1   \n",
       "4            4         21         20                1                3   \n",
       "\n",
       "   HomeRedCards  AwayRedCards  \n",
       "0             0             0  \n",
       "1             0             0  \n",
       "2             1             0  \n",
       "3             0             0  \n",
       "4             0             0  \n",
       "\n",
       "[5 rows x 22 columns]"
      ]
     },
     "execution_count": 6,
     "metadata": {},
     "output_type": "execute_result"
    }
   ],
   "source": [
    "# 1. Import Libraries\n",
    "import pandas as pd\n",
    "import numpy as np\n",
    "import matplotlib.pyplot as plt\n",
    "import seaborn as sns\n",
    "\n",
    "# Plot settings\n",
    "sns.set_style('whitegrid')\n",
    "plt.rcParams['figure.figsize'] = (12, 6)\n",
    "\n",
    "# 2. Load Dataset\n",
    "df = pd.read_csv(\"../data/processed/epl_final.csv\")\n",
    "\n",
    "# 3. Preview Data\n",
    "df.head(5)"
   ]
  },
  {
   "cell_type": "markdown",
   "id": "b0a211c3",
   "metadata": {},
   "source": [
    "## Question 1: Which teams tend to dominate at home vs. away?\n",
    "\n",
    "Understanding how teams perform at home versus away is critical for predicting match outcomes and evaluating strategic strengths.  \n",
    "This analysis compares **win counts** and **goal averages** for each team when playing at home and away, and highlights those with a strong home advantage."
   ]
  },
  {
   "cell_type": "code",
   "execution_count": null,
   "id": "e3cf06fc",
   "metadata": {},
   "outputs": [
    {
     "data": {
      "application/vnd.microsoft.datawrangler.viewer.v0+json": {
       "columns": [
        {
         "name": "index",
         "rawType": "object",
         "type": "string"
        },
        {
         "name": "HomeWins",
         "rawType": "int64",
         "type": "integer"
        },
        {
         "name": "HomeDraws",
         "rawType": "int64",
         "type": "integer"
        },
        {
         "name": "AwayWins",
         "rawType": "int64",
         "type": "integer"
        },
        {
         "name": "AwayDraws",
         "rawType": "int64",
         "type": "integer"
        }
       ],
       "conversionMethod": "pd.DataFrame",
       "ref": "e1cc95dc-5d05-4903-b3ba-6ded2c1d699b",
       "rows": [
        [
         "Man United",
         "318",
         "82",
         "234",
         "115"
        ],
        [
         "Arsenal",
         "314",
         "97",
         "220",
         "119"
        ],
        [
         "Liverpool",
         "307",
         "110",
         "223",
         "113"
        ],
        [
         "Chelsea",
         "299",
         "110",
         "234",
         "105"
        ],
        [
         "Man City",
         "293",
         "72",
         "207",
         "98"
        ],
        [
         "Tottenham",
         "275",
         "89",
         "165",
         "117"
        ],
        [
         "Everton",
         "223",
         "119",
         "125",
         "142"
        ],
        [
         "Newcastle",
         "204",
         "105",
         "111",
         "107"
        ],
        [
         "West Ham",
         "170",
         "105",
         "102",
         "103"
        ],
        [
         "Aston Villa",
         "165",
         "119",
         "114",
         "112"
        ]
       ],
       "shape": {
        "columns": 4,
        "rows": 10
       }
      },
      "text/html": [
       "<div>\n",
       "<style scoped>\n",
       "    .dataframe tbody tr th:only-of-type {\n",
       "        vertical-align: middle;\n",
       "    }\n",
       "\n",
       "    .dataframe tbody tr th {\n",
       "        vertical-align: top;\n",
       "    }\n",
       "\n",
       "    .dataframe thead th {\n",
       "        text-align: right;\n",
       "    }\n",
       "</style>\n",
       "<table border=\"1\" class=\"dataframe\">\n",
       "  <thead>\n",
       "    <tr style=\"text-align: right;\">\n",
       "      <th></th>\n",
       "      <th>HomeWins</th>\n",
       "      <th>HomeDraws</th>\n",
       "      <th>AwayWins</th>\n",
       "      <th>AwayDraws</th>\n",
       "    </tr>\n",
       "  </thead>\n",
       "  <tbody>\n",
       "    <tr>\n",
       "      <th>Man United</th>\n",
       "      <td>318</td>\n",
       "      <td>82</td>\n",
       "      <td>234</td>\n",
       "      <td>115</td>\n",
       "    </tr>\n",
       "    <tr>\n",
       "      <th>Arsenal</th>\n",
       "      <td>314</td>\n",
       "      <td>97</td>\n",
       "      <td>220</td>\n",
       "      <td>119</td>\n",
       "    </tr>\n",
       "    <tr>\n",
       "      <th>Liverpool</th>\n",
       "      <td>307</td>\n",
       "      <td>110</td>\n",
       "      <td>223</td>\n",
       "      <td>113</td>\n",
       "    </tr>\n",
       "    <tr>\n",
       "      <th>Chelsea</th>\n",
       "      <td>299</td>\n",
       "      <td>110</td>\n",
       "      <td>234</td>\n",
       "      <td>105</td>\n",
       "    </tr>\n",
       "    <tr>\n",
       "      <th>Man City</th>\n",
       "      <td>293</td>\n",
       "      <td>72</td>\n",
       "      <td>207</td>\n",
       "      <td>98</td>\n",
       "    </tr>\n",
       "    <tr>\n",
       "      <th>Tottenham</th>\n",
       "      <td>275</td>\n",
       "      <td>89</td>\n",
       "      <td>165</td>\n",
       "      <td>117</td>\n",
       "    </tr>\n",
       "    <tr>\n",
       "      <th>Everton</th>\n",
       "      <td>223</td>\n",
       "      <td>119</td>\n",
       "      <td>125</td>\n",
       "      <td>142</td>\n",
       "    </tr>\n",
       "    <tr>\n",
       "      <th>Newcastle</th>\n",
       "      <td>204</td>\n",
       "      <td>105</td>\n",
       "      <td>111</td>\n",
       "      <td>107</td>\n",
       "    </tr>\n",
       "    <tr>\n",
       "      <th>West Ham</th>\n",
       "      <td>170</td>\n",
       "      <td>105</td>\n",
       "      <td>102</td>\n",
       "      <td>103</td>\n",
       "    </tr>\n",
       "    <tr>\n",
       "      <th>Aston Villa</th>\n",
       "      <td>165</td>\n",
       "      <td>119</td>\n",
       "      <td>114</td>\n",
       "      <td>112</td>\n",
       "    </tr>\n",
       "  </tbody>\n",
       "</table>\n",
       "</div>"
      ],
      "text/plain": [
       "             HomeWins  HomeDraws  AwayWins  AwayDraws\n",
       "Man United        318         82       234        115\n",
       "Arsenal           314         97       220        119\n",
       "Liverpool         307        110       223        113\n",
       "Chelsea           299        110       234        105\n",
       "Man City          293         72       207         98\n",
       "Tottenham         275         89       165        117\n",
       "Everton           223        119       125        142\n",
       "Newcastle         204        105       111        107\n",
       "West Ham          170        105       102        103\n",
       "Aston Villa       165        119       114        112"
      ]
     },
     "execution_count": 7,
     "metadata": {},
     "output_type": "execute_result"
    }
   ],
   "source": [
    "df_copy = df.copy()\n",
    "\n",
    "# Add result indicators\n",
    "df_copy[\"HomeWin\"] = df_copy[\"FullTimeResult\"] == \"H\"\n",
    "df_copy[\"AwayWin\"] = df_copy[\"FullTimeResult\"] == \"A\"\n",
    "df_copy[\"Draw\"] = df_copy[\"FullTimeResult\"] == \"D\"\n",
    "\n",
    "# Group by team\n",
    "home_stats = df_copy.groupby(\"HomeTeam\")[[\"HomeWin\", \"Draw\"]].sum()\n",
    "away_stats = df_copy.groupby(\"AwayTeam\")[[\"AwayWin\", \"Draw\"]].sum()\n",
    "\n",
    "# Rename columns\n",
    "home_stats.columns = [\"HomeWins\", \"HomeDraws\"]\n",
    "away_stats.columns = [\"AwayWins\", \"AwayDraws\"]\n",
    "\n",
    "# Combine into one DataFrame\n",
    "team_performance = pd.concat([home_stats, away_stats], axis=1).fillna(0)\n",
    "\n",
    "# Sort by home wins for display\n",
    "team_performance.sort_values(\"HomeWins\", ascending=False).head(10)"
   ]
  },
  {
   "cell_type": "code",
   "execution_count": 17,
   "id": "c2fb4d62",
   "metadata": {},
   "outputs": [
    {
     "data": {
      "image/png": "[encoded data removed]",
      "text/plain": [
       "<Figure size 1200x600 with 1 Axes>"
      ]
     },
     "metadata": {},
     "output_type": "display_data"
    }
   ],
   "source": [
    "# Top 10 teams by Home Wins\n",
    "top_10_by_home_wins = team_performance.sort_values(\"HomeWins\", ascending=False).head(10)\n",
    "\n",
    "# Plot Home vs. Away Wins for those teams\n",
    "top_10_by_home_wins[[\"HomeWins\", \"AwayWins\"]].plot(kind=\"bar\", figsize=(12,6))\n",
    "plt.title(\"Top 10 EPL Teams by Home Wins (with Away Wins for Comparison)\")\n",
    "plt.ylabel(\"Number of Wins\")\n",
    "plt.xlabel(\"Team\")\n",
    "plt.xticks(rotation=45)\n",
    "plt.legend([\"Home Wins\", \"Away Wins\"])\n",
    "plt.tight_layout()\n",
    "plt.show()"
   ]
  },
  {
   "cell_type": "code",
   "execution_count": 8,
   "id": "fc160610",
   "metadata": {},
   "outputs": [
    {
     "data": {
      "application/vnd.microsoft.datawrangler.viewer.v0+json": {
       "columns": [
        {
         "name": "index",
         "rawType": "object",
         "type": "string"
        },
        {
         "name": "AvgHomeGoals",
         "rawType": "float64",
         "type": "float"
        },
        {
         "name": "AvgAwayGoals",
         "rawType": "float64",
         "type": "float"
        }
       ],
       "conversionMethod": "pd.DataFrame",
       "ref": "16e65349-6a7d-49a8-819e-66ca7c9a442c",
       "rows": [
        [
         "Man City",
         "2.1866666666666665",
         "1.6333333333333333"
        ],
        [
         "Arsenal",
         "2.1474358974358974",
         "1.64818763326226"
        ],
        [
         "Liverpool",
         "2.081370449678801",
         "1.645435244161359"
        ],
        [
         "Chelsea",
         "2.0575692963752665",
         "1.5726495726495726"
        ],
        [
         "Man United",
         "2.0405117270788913",
         "1.5927505330490406"
        ],
        [
         "Tottenham",
         "1.835820895522388",
         "1.4072494669509594"
        ],
        [
         "Brentford",
         "1.6533333333333333",
         "1.3513513513513513"
        ],
        [
         "Blackpool",
         "1.5789473684210527",
         "1.3157894736842106"
        ],
        [
         "Newcastle",
         "1.5651162790697675",
         "1.111368909512761"
        ],
        [
         "Everton",
         "1.5116772823779194",
         "1.0492505353319057"
        ]
       ],
       "shape": {
        "columns": 2,
        "rows": 10
       }
      },
      "text/html": [
       "<div>\n",
       "<style scoped>\n",
       "    .dataframe tbody tr th:only-of-type {\n",
       "        vertical-align: middle;\n",
       "    }\n",
       "\n",
       "    .dataframe tbody tr th {\n",
       "        vertical-align: top;\n",
       "    }\n",
       "\n",
       "    .dataframe thead th {\n",
       "        text-align: right;\n",
       "    }\n",
       "</style>\n",
       "<table border=\"1\" class=\"dataframe\">\n",
       "  <thead>\n",
       "    <tr style=\"text-align: right;\">\n",
       "      <th></th>\n",
       "      <th>AvgHomeGoals</th>\n",
       "      <th>AvgAwayGoals</th>\n",
       "    </tr>\n",
       "  </thead>\n",
       "  <tbody>\n",
       "    <tr>\n",
       "      <th>Man City</th>\n",
       "      <td>2.186667</td>\n",
       "      <td>1.633333</td>\n",
       "    </tr>\n",
       "    <tr>\n",
       "      <th>Arsenal</th>\n",
       "      <td>2.147436</td>\n",
       "      <td>1.648188</td>\n",
       "    </tr>\n",
       "    <tr>\n",
       "      <th>Liverpool</th>\n",
       "      <td>2.081370</td>\n",
       "      <td>1.645435</td>\n",
       "    </tr>\n",
       "    <tr>\n",
       "      <th>Chelsea</th>\n",
       "      <td>2.057569</td>\n",
       "      <td>1.572650</td>\n",
       "    </tr>\n",
       "    <tr>\n",
       "      <th>Man United</th>\n",
       "      <td>2.040512</td>\n",
       "      <td>1.592751</td>\n",
       "    </tr>\n",
       "    <tr>\n",
       "      <th>Tottenham</th>\n",
       "      <td>1.835821</td>\n",
       "      <td>1.407249</td>\n",
       "    </tr>\n",
       "    <tr>\n",
       "      <th>Brentford</th>\n",
       "      <td>1.653333</td>\n",
       "      <td>1.351351</td>\n",
       "    </tr>\n",
       "    <tr>\n",
       "      <th>Blackpool</th>\n",
       "      <td>1.578947</td>\n",
       "      <td>1.315789</td>\n",
       "    </tr>\n",
       "    <tr>\n",
       "      <th>Newcastle</th>\n",
       "      <td>1.565116</td>\n",
       "      <td>1.111369</td>\n",
       "    </tr>\n",
       "    <tr>\n",
       "      <th>Everton</th>\n",
       "      <td>1.511677</td>\n",
       "      <td>1.049251</td>\n",
       "    </tr>\n",
       "  </tbody>\n",
       "</table>\n",
       "</div>"
      ],
      "text/plain": [
       "            AvgHomeGoals  AvgAwayGoals\n",
       "Man City        2.186667      1.633333\n",
       "Arsenal         2.147436      1.648188\n",
       "Liverpool       2.081370      1.645435\n",
       "Chelsea         2.057569      1.572650\n",
       "Man United      2.040512      1.592751\n",
       "Tottenham       1.835821      1.407249\n",
       "Brentford       1.653333      1.351351\n",
       "Blackpool       1.578947      1.315789\n",
       "Newcastle       1.565116      1.111369\n",
       "Everton         1.511677      1.049251"
      ]
     },
     "execution_count": 8,
     "metadata": {},
     "output_type": "execute_result"
    }
   ],
   "source": [
    "# Average goals scored at home and away by each team\n",
    "home_goals = df_copy.groupby(\"HomeTeam\")[\"FullTimeHomeGoals\"].mean().rename(\"AvgHomeGoals\")\n",
    "away_goals = df_copy.groupby(\"AwayTeam\")[\"FullTimeAwayGoals\"].mean().rename(\"AvgAwayGoals\")\n",
    "\n",
    "# Combine\n",
    "avg_goals = pd.concat([home_goals, away_goals], axis=1).fillna(0)\n",
    "\n",
    "# Sort by AvgHomeGoals\n",
    "avg_goals_sorted = avg_goals.sort_values(\"AvgHomeGoals\", ascending=False)\n",
    "avg_goals_sorted.head(10)"
   ]
  },
  {
   "cell_type": "code",
   "execution_count": 14,
   "id": "4e6efa6b",
   "metadata": {},
   "outputs": [
    {
     "data": {
      "image/png": "[encoded data removed]",
      "text/plain": [
       "<Figure size 1200x600 with 1 Axes>"
      ]
     },
     "metadata": {},
     "output_type": "display_data"
    }
   ],
   "source": [
    "# Top 10 teams by average home goals\n",
    "top_10_avg_goals = avg_goals.sort_values(\"AvgHomeGoals\", ascending=False).head(10)\n",
    "\n",
    "# Plot\n",
    "top_10_avg_goals.plot(kind=\"bar\", figsize=(12,6))\n",
    "plt.title(\"Top 10 Teams by Average Home Goals (with Away Goals for Comparison)\")\n",
    "plt.ylabel(\"Average Goals per Match\")\n",
    "plt.xlabel(\"Team\")\n",
    "plt.xticks(rotation=45)\n",
    "plt.legend([\"Home Goals\", \"Away Goals\"])\n",
    "plt.tight_layout()\n",
    "plt.show()"
   ]
  },
  {
   "cell_type": "markdown",
   "id": "5e3eb4b6",
   "metadata": {},
   "source": [
    "### ✅ Key Findings\n",
    "\n",
    "- The most dominant teams at home — **Manchester United, Arsenal, Liverpool, Chelsea, and Manchester City** — top both **home wins** and **average home goals**.\n",
    "- Across the entire league, **teams win and score significantly more at home** than away.\n",
    "- This insight supports the common belief in \"home field advantage\" and is useful for **match prediction models**, **betting strategies**, and **performance analysis**."
   ]
  },
  {
   "cell_type": "markdown",
   "id": "d2d52f98",
   "metadata": {},
   "source": [
    "## Question 2: Are Goal Totals Changing Across Seasons?\n",
    "\n",
    "This analysis explores the **trend of goals scored over different seasons** to determine whether matches have become more offensive or defensive over time.\n",
    "\n",
    "We'll look at:\n",
    "- Average goals per match per season\n",
    "- Total goals per season"
   ]
  },
  {
   "cell_type": "code",
   "execution_count": null,
   "id": "346e7ede",
   "metadata": {},
   "outputs": [],
   "source": []
  }
 ],
 "metadata": {
  "kernelspec": {
   "display_name": "venv",
   "language": "python",
   "name": "python3"
  },
  "language_info": {
   "codemirror_mode": {
    "name": "ipython",
    "version": 3
   },
   "file_extension": ".py",
   "mimetype": "text/x-python",
   "name": "python",
   "nbconvert_exporter": "python",
   "pygments_lexer": "ipython3",
   "version": "3.12.7"
  }
 },
 "nbformat": 4,
 "nbformat_minor": 5
}
